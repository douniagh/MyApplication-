{
  "nbformat": 4,
  "nbformat_minor": 0,
  "metadata": {
    "colab": {
      "provenance": [],
      "machine_shape": "hm",
      "include_colab_link": true
    },
    "kernelspec": {
      "name": "python3",
      "display_name": "Python 3"
    },
    "accelerator": "TPU"
  },
  "cells": [
    {
      "cell_type": "markdown",
      "metadata": {
        "id": "view-in-github",
        "colab_type": "text"
      },
      "source": [
        "<a href=\"https://colab.research.google.com/github/douniagh/MyApplication-/blob/main/Training5.ipynb\" target=\"_parent\"><img src=\"https://colab.research.google.com/assets/colab-badge.svg\" alt=\"Open In Colab\"/></a>"
      ]
    },
    {
      "cell_type": "code",
      "source": [
        " from sklearn.datasets import make_regression\n",
        " from sklearn.feature_selection import RFECV\n",
        " from sklearn import linear_model\n",
        " from sklearn import datasets\n",
        " import pandas as pd\n",
        " import numpy as np\n",
        " from sklearn.preprocessing import LabelEncoder\n",
        " from sklearn.preprocessing import OneHotEncoder\n",
        " from sklearn.preprocessing import MinMaxScaler\n",
        " import matplotlib.pyplot as plt\n",
        " from sklearn.model_selection import train_test_split, cross_val_score\n",
        " from sklearn.decomposition import PCA\n",
        " from sklearn import tree\n",
        " from sklearn.naive_bayes import GaussianNB\n",
        " from sklearn.linear_model import LogisticRegression\n",
        " from sklearn.neighbors import KNeighborsClassifier\n",
        " from sklearn.tree import DecisionTreeClassifier\n",
        " from sklearn.preprocessing import RobustScaler\n",
        " from sklearn.ensemble import RandomForestClassifier, RandomForestRegressor\n",
        " from sklearn.model_selection import train_test_split\n",
        " from sklearn.linear_model import LogisticRegression\n",
        " from sklearn.metrics import accuracy_score\n",
        " from collections import Counter\n",
        " from sklearn.utils import shuffle\n",
        " import seaborn as sns\n",
        "# from fancyimpute import IterativeImputer\n",
        "from google.colab import drive\n",
        "drive.mount('/content/drive', force_remount=True)"
      ],
      "metadata": {
        "id": "aKEukGS42OVK",
        "outputId": "781843a5-3c8f-4fc6-a3fe-3e1983a50fc8",
        "colab": {
          "base_uri": "https://localhost:8080/"
        }
      },
      "execution_count": 1,
      "outputs": [
        {
          "output_type": "stream",
          "name": "stdout",
          "text": [
            "Mounted at /content/drive\n"
          ]
        }
      ]
    },
    {
      "cell_type": "code",
      "source": [
        "import dask.dataframe as dd\n",
        "import pandas as pd\n",
        "\n",
        "# Define the file path\n",
        "file_path = '/content/drive/MyDrive/final.csv'\n",
        "\n",
        "df = pd.read_csv(file_path,low_memory= False)\n",
        "df.tail()"
      ],
      "metadata": {
        "id": "B0I5pU-W2YO6",
        "outputId": "cdd03b98-ebda-46e1-f0f8-390a07e386f2",
        "colab": {
          "base_uri": "https://localhost:8080/",
          "height": 300
        }
      },
      "execution_count": 2,
      "outputs": [
        {
          "output_type": "execute_result",
          "data": {
            "text/plain": [
              "          frame.time  ip.src_host  ip.dst_host  arp.dst.proto_ipv4  \\\n",
              "19793243       81334            3            1                   0   \n",
              "19793244      111552            2            2                   0   \n",
              "19793245      128124            2            2                   0   \n",
              "19793246       54862            3            1                   0   \n",
              "19793247      177483            2            2                   0   \n",
              "\n",
              "          arp.hw.size  arp.src.proto_ipv4  icmp.checksum  icmp.seq_le  \\\n",
              "19793243            0                   0              0            0   \n",
              "19793244            0                   0              0            0   \n",
              "19793245            0                   0              0            0   \n",
              "19793246            0                   0              0            0   \n",
              "19793247            0                   0              0            0   \n",
              "\n",
              "          http.file_data  http.content_length  ...  tcp.srcport  udp.stream  \\\n",
              "19793243               0                    0  ...         9763           0   \n",
              "19793244               0                    0  ...            1           0   \n",
              "19793245               0                    0  ...            1           0   \n",
              "19793246               0                    0  ...         3270           0   \n",
              "19793247               0                    0  ...            1           0   \n",
              "\n",
              "          dns.qry.name  mqtt.hdrflags  mqtt.len  mqtt.msgtype  mqtt.ver  \\\n",
              "19793243             0              3         4             4         0   \n",
              "19793244             0              0         0             0         0   \n",
              "19793245             0              0         0             0         0   \n",
              "19793246             0              0         0             0         0   \n",
              "19793247             0              0         0             0         0   \n",
              "\n",
              "          mbtcp.len  Attack_label  Attack_type  \n",
              "19793243          0             0            0  \n",
              "19793244          0             0            0  \n",
              "19793245          0             0            0  \n",
              "19793246          0             0            0  \n",
              "19793247          0             0            0  \n",
              "\n",
              "[5 rows x 41 columns]"
            ],
            "text/html": [
              "\n",
              "  <div id=\"df-fa29ac93-1a4f-499b-9c3d-3b1d8edf932c\">\n",
              "    <div class=\"colab-df-container\">\n",
              "      <div>\n",
              "<style scoped>\n",
              "    .dataframe tbody tr th:only-of-type {\n",
              "        vertical-align: middle;\n",
              "    }\n",
              "\n",
              "    .dataframe tbody tr th {\n",
              "        vertical-align: top;\n",
              "    }\n",
              "\n",
              "    .dataframe thead th {\n",
              "        text-align: right;\n",
              "    }\n",
              "</style>\n",
              "<table border=\"1\" class=\"dataframe\">\n",
              "  <thead>\n",
              "    <tr style=\"text-align: right;\">\n",
              "      <th></th>\n",
              "      <th>frame.time</th>\n",
              "      <th>ip.src_host</th>\n",
              "      <th>ip.dst_host</th>\n",
              "      <th>arp.dst.proto_ipv4</th>\n",
              "      <th>arp.hw.size</th>\n",
              "      <th>arp.src.proto_ipv4</th>\n",
              "      <th>icmp.checksum</th>\n",
              "      <th>icmp.seq_le</th>\n",
              "      <th>http.file_data</th>\n",
              "      <th>http.content_length</th>\n",
              "      <th>...</th>\n",
              "      <th>tcp.srcport</th>\n",
              "      <th>udp.stream</th>\n",
              "      <th>dns.qry.name</th>\n",
              "      <th>mqtt.hdrflags</th>\n",
              "      <th>mqtt.len</th>\n",
              "      <th>mqtt.msgtype</th>\n",
              "      <th>mqtt.ver</th>\n",
              "      <th>mbtcp.len</th>\n",
              "      <th>Attack_label</th>\n",
              "      <th>Attack_type</th>\n",
              "    </tr>\n",
              "  </thead>\n",
              "  <tbody>\n",
              "    <tr>\n",
              "      <th>19793243</th>\n",
              "      <td>81334</td>\n",
              "      <td>3</td>\n",
              "      <td>1</td>\n",
              "      <td>0</td>\n",
              "      <td>0</td>\n",
              "      <td>0</td>\n",
              "      <td>0</td>\n",
              "      <td>0</td>\n",
              "      <td>0</td>\n",
              "      <td>0</td>\n",
              "      <td>...</td>\n",
              "      <td>9763</td>\n",
              "      <td>0</td>\n",
              "      <td>0</td>\n",
              "      <td>3</td>\n",
              "      <td>4</td>\n",
              "      <td>4</td>\n",
              "      <td>0</td>\n",
              "      <td>0</td>\n",
              "      <td>0</td>\n",
              "      <td>0</td>\n",
              "    </tr>\n",
              "    <tr>\n",
              "      <th>19793244</th>\n",
              "      <td>111552</td>\n",
              "      <td>2</td>\n",
              "      <td>2</td>\n",
              "      <td>0</td>\n",
              "      <td>0</td>\n",
              "      <td>0</td>\n",
              "      <td>0</td>\n",
              "      <td>0</td>\n",
              "      <td>0</td>\n",
              "      <td>0</td>\n",
              "      <td>...</td>\n",
              "      <td>1</td>\n",
              "      <td>0</td>\n",
              "      <td>0</td>\n",
              "      <td>0</td>\n",
              "      <td>0</td>\n",
              "      <td>0</td>\n",
              "      <td>0</td>\n",
              "      <td>0</td>\n",
              "      <td>0</td>\n",
              "      <td>0</td>\n",
              "    </tr>\n",
              "    <tr>\n",
              "      <th>19793245</th>\n",
              "      <td>128124</td>\n",
              "      <td>2</td>\n",
              "      <td>2</td>\n",
              "      <td>0</td>\n",
              "      <td>0</td>\n",
              "      <td>0</td>\n",
              "      <td>0</td>\n",
              "      <td>0</td>\n",
              "      <td>0</td>\n",
              "      <td>0</td>\n",
              "      <td>...</td>\n",
              "      <td>1</td>\n",
              "      <td>0</td>\n",
              "      <td>0</td>\n",
              "      <td>0</td>\n",
              "      <td>0</td>\n",
              "      <td>0</td>\n",
              "      <td>0</td>\n",
              "      <td>0</td>\n",
              "      <td>0</td>\n",
              "      <td>0</td>\n",
              "    </tr>\n",
              "    <tr>\n",
              "      <th>19793246</th>\n",
              "      <td>54862</td>\n",
              "      <td>3</td>\n",
              "      <td>1</td>\n",
              "      <td>0</td>\n",
              "      <td>0</td>\n",
              "      <td>0</td>\n",
              "      <td>0</td>\n",
              "      <td>0</td>\n",
              "      <td>0</td>\n",
              "      <td>0</td>\n",
              "      <td>...</td>\n",
              "      <td>3270</td>\n",
              "      <td>0</td>\n",
              "      <td>0</td>\n",
              "      <td>0</td>\n",
              "      <td>0</td>\n",
              "      <td>0</td>\n",
              "      <td>0</td>\n",
              "      <td>0</td>\n",
              "      <td>0</td>\n",
              "      <td>0</td>\n",
              "    </tr>\n",
              "    <tr>\n",
              "      <th>19793247</th>\n",
              "      <td>177483</td>\n",
              "      <td>2</td>\n",
              "      <td>2</td>\n",
              "      <td>0</td>\n",
              "      <td>0</td>\n",
              "      <td>0</td>\n",
              "      <td>0</td>\n",
              "      <td>0</td>\n",
              "      <td>0</td>\n",
              "      <td>0</td>\n",
              "      <td>...</td>\n",
              "      <td>1</td>\n",
              "      <td>0</td>\n",
              "      <td>0</td>\n",
              "      <td>0</td>\n",
              "      <td>0</td>\n",
              "      <td>0</td>\n",
              "      <td>0</td>\n",
              "      <td>0</td>\n",
              "      <td>0</td>\n",
              "      <td>0</td>\n",
              "    </tr>\n",
              "  </tbody>\n",
              "</table>\n",
              "<p>5 rows × 41 columns</p>\n",
              "</div>\n",
              "      <button class=\"colab-df-convert\" onclick=\"convertToInteractive('df-fa29ac93-1a4f-499b-9c3d-3b1d8edf932c')\"\n",
              "              title=\"Convert this dataframe to an interactive table.\"\n",
              "              style=\"display:none;\">\n",
              "        \n",
              "  <svg xmlns=\"http://www.w3.org/2000/svg\" height=\"24px\"viewBox=\"0 0 24 24\"\n",
              "       width=\"24px\">\n",
              "    <path d=\"M0 0h24v24H0V0z\" fill=\"none\"/>\n",
              "    <path d=\"M18.56 5.44l.94 2.06.94-2.06 2.06-.94-2.06-.94-.94-2.06-.94 2.06-2.06.94zm-11 1L8.5 8.5l.94-2.06 2.06-.94-2.06-.94L8.5 2.5l-.94 2.06-2.06.94zm10 10l.94 2.06.94-2.06 2.06-.94-2.06-.94-.94-2.06-.94 2.06-2.06.94z\"/><path d=\"M17.41 7.96l-1.37-1.37c-.4-.4-.92-.59-1.43-.59-.52 0-1.04.2-1.43.59L10.3 9.45l-7.72 7.72c-.78.78-.78 2.05 0 2.83L4 21.41c.39.39.9.59 1.41.59.51 0 1.02-.2 1.41-.59l7.78-7.78 2.81-2.81c.8-.78.8-2.07 0-2.86zM5.41 20L4 18.59l7.72-7.72 1.47 1.35L5.41 20z\"/>\n",
              "  </svg>\n",
              "      </button>\n",
              "      \n",
              "  <style>\n",
              "    .colab-df-container {\n",
              "      display:flex;\n",
              "      flex-wrap:wrap;\n",
              "      gap: 12px;\n",
              "    }\n",
              "\n",
              "    .colab-df-convert {\n",
              "      background-color: #E8F0FE;\n",
              "      border: none;\n",
              "      border-radius: 50%;\n",
              "      cursor: pointer;\n",
              "      display: none;\n",
              "      fill: #1967D2;\n",
              "      height: 32px;\n",
              "      padding: 0 0 0 0;\n",
              "      width: 32px;\n",
              "    }\n",
              "\n",
              "    .colab-df-convert:hover {\n",
              "      background-color: #E2EBFA;\n",
              "      box-shadow: 0px 1px 2px rgba(60, 64, 67, 0.3), 0px 1px 3px 1px rgba(60, 64, 67, 0.15);\n",
              "      fill: #174EA6;\n",
              "    }\n",
              "\n",
              "    [theme=dark] .colab-df-convert {\n",
              "      background-color: #3B4455;\n",
              "      fill: #D2E3FC;\n",
              "    }\n",
              "\n",
              "    [theme=dark] .colab-df-convert:hover {\n",
              "      background-color: #434B5C;\n",
              "      box-shadow: 0px 1px 3px 1px rgba(0, 0, 0, 0.15);\n",
              "      filter: drop-shadow(0px 1px 2px rgba(0, 0, 0, 0.3));\n",
              "      fill: #FFFFFF;\n",
              "    }\n",
              "  </style>\n",
              "\n",
              "      <script>\n",
              "        const buttonEl =\n",
              "          document.querySelector('#df-fa29ac93-1a4f-499b-9c3d-3b1d8edf932c button.colab-df-convert');\n",
              "        buttonEl.style.display =\n",
              "          google.colab.kernel.accessAllowed ? 'block' : 'none';\n",
              "\n",
              "        async function convertToInteractive(key) {\n",
              "          const element = document.querySelector('#df-fa29ac93-1a4f-499b-9c3d-3b1d8edf932c');\n",
              "          const dataTable =\n",
              "            await google.colab.kernel.invokeFunction('convertToInteractive',\n",
              "                                                     [key], {});\n",
              "          if (!dataTable) return;\n",
              "\n",
              "          const docLinkHtml = 'Like what you see? Visit the ' +\n",
              "            '<a target=\"_blank\" href=https://colab.research.google.com/notebooks/data_table.ipynb>data table notebook</a>'\n",
              "            + ' to learn more about interactive tables.';\n",
              "          element.innerHTML = '';\n",
              "          dataTable['output_type'] = 'display_data';\n",
              "          await google.colab.output.renderOutput(dataTable, element);\n",
              "          const docLink = document.createElement('div');\n",
              "          docLink.innerHTML = docLinkHtml;\n",
              "          element.appendChild(docLink);\n",
              "        }\n",
              "      </script>\n",
              "    </div>\n",
              "  </div>\n",
              "  "
            ]
          },
          "metadata": {},
          "execution_count": 2
        }
      ]
    },
    {
      "cell_type": "code",
      "source": [
        "from sklearn import metrics\n",
        "\n",
        "kernal_evals = dict()\n",
        "def evaluate_classification(model, name, X_train, X_test, y_train, y_test):\n",
        "    train_accuracy = metrics.accuracy_score(y_train, model.predict(X_train))\n",
        "    test_accuracy = metrics.accuracy_score(y_test, model.predict(X_test))\n",
        "\n",
        "    train_precision = metrics.precision_score(y_train, model.predict(X_train))\n",
        "    test_precision = metrics.precision_score(y_test, model.predict(X_test))\n",
        "\n",
        "    train_recall = metrics.recall_score(y_train, model.predict(X_train))\n",
        "    test_recall = metrics.recall_score(y_test, model.predict(X_test))\n",
        "\n",
        "    kernal_evals[str(name)] = [train_accuracy, test_accuracy, train_precision, test_precision, train_recall, test_recall]\n",
        "    print(\"Training Accuracy \" + str(name) + \" {}  Test Accuracy \".format(train_accuracy*100) + str(name) + \" {}\".format(test_accuracy*100))\n",
        "    print(\"Training Precesion \" + str(name) + \" {}  Test Precesion \".format(train_precision*100) + str(name) + \" {}\".format(test_precision*100))\n",
        "    print(\"Training Recall \" + str(name) + \" {}  Test Recall \".format(train_recall*100) + str(name) + \" {}\".format(test_recall*100))\n",
        "\n",
        "    actual = y_test\n",
        "    predicted = model.predict(X_test)\n",
        "    confusion_matrix = metrics.confusion_matrix(actual, predicted)\n",
        "    cm_display = metrics.ConfusionMatrixDisplay(confusion_matrix = confusion_matrix, display_labels = ['Normal', 'Attack'])\n",
        "\n",
        "    fig, ax = plt.subplots(figsize=(10,10))\n",
        "    ax.grid(False)\n",
        "    cm_display.plot(ax=ax)"
      ],
      "metadata": {
        "id": "GMWcC6el2akV"
      },
      "execution_count": 6,
      "outputs": []
    },
    {
      "cell_type": "code",
      "source": [
        "\n",
        "from sklearn.ensemble import RandomForestClassifier\n",
        "\n",
        "# Step 1: Load and preprocess the dataset\n",
        "# data = dd.read_csv('intrusion_dataset.csv')\n",
        "\n",
        "X = df.drop('Attack_label', axis=1)\n",
        "y = df['Attack_label']\n",
        "\n",
        "# Step 2: Split the dataset into training and testing sets\n",
        "X_train, X_test, y_train, y_test = train_test_split(X, y, test_size=0.25, random_state=42)"
      ],
      "metadata": {
        "id": "lRWEC4Id2htN"
      },
      "execution_count": 4,
      "outputs": []
    },
    {
      "cell_type": "code",
      "source": [
        "rf = RandomForestClassifier(n_estimators=50, max_depth=10, n_jobs=-1).fit(X_train, y_train)\n",
        "evaluate_classification(rf, \"RandomForestClassifier\", X_train, X_test, y_train, y_test)"
      ],
      "metadata": {
        "id": "DTwn4oJE2iRs",
        "outputId": "2ca407a2-197f-486e-eb6e-b18524905792",
        "colab": {
          "base_uri": "https://localhost:8080/",
          "height": 877
        }
      },
      "execution_count": null,
      "outputs": [
        {
          "output_type": "stream",
          "name": "stdout",
          "text": [
            "Training Accuracy RandomForestClassifier 99.99991242804954  Test Accuracy RandomForestClassifier 99.99126975016935\n",
            "Training Precesion RandomForestClassifier 99.99994518717347  Test Precesion RandomForestClassifier 99.99161506230749\n",
            "Training Recall RandomForestClassifier 99.99987667122481  Test Recall RandomForestClassifier 99.99062869149405\n"
          ]
        },
        {
          "output_type": "display_data",
          "data": {
            "text/plain": [
              "<Figure size 1000x1000 with 2 Axes>"
            ],
            "image/png": "[encoded data removed]"
          },
          "metadata": {}
        }
      ]
    },
    {
      "cell_type": "code",
      "source": [
        "from sklearn.tree import DecisionTreeClassifier\n",
        "\n",
        "dt = DecisionTreeClassifier(max_depth=3).fit(X_train, y_train)\n",
        "evaluate_classification(dt, \"DecisionTreeClassifier\", X_train, X_test, y_train, y_test)"
      ],
      "metadata": {
        "colab": {
          "base_uri": "https://localhost:8080/",
          "height": 877
        },
        "id": "bI1BKgM_V2zh",
        "outputId": "a75156f1-fae1-44d2-b8bd-c5e232ecfe1c"
      },
      "execution_count": 5,
      "outputs": [
        {
          "output_type": "stream",
          "name": "stdout",
          "text": [
            "Training Accuracy DecisionTreeClassifier 99.81984428898852  Test Accuracy DecisionTreeClassifier 99.8205852824155\n",
            "Training Precesion DecisionTreeClassifier 99.9997249294891  Test Precesion DecisionTreeClassifier 99.9997112323202\n",
            "Training Recall DecisionTreeClassifier 99.63379575685978  Test Recall DecisionTreeClassifier 99.63538211510433\n"
          ]
        },
        {
          "output_type": "display_data",
          "data": {
            "text/plain": [
              "<Figure size 1000x1000 with 2 Axes>"
            ],
            "image/png": "[encoded data removed]"
          },
          "metadata": {}
        }
      ]
    },
    {
      "cell_type": "code",
      "source": [
        "lr = LogisticRegression().fit(X_train, y_train)\n",
        "evaluate_classification(lr, \"Logistic Regression\", X_train, X_test, y_train, y_test)"
      ],
      "metadata": {
        "colab": {
          "base_uri": "https://localhost:8080/",
          "height": 1000
        },
        "id": "cogfUjyFYVGw",
        "outputId": "dea701e5-704d-4f38-d5ef-7e71b1d251b0"
      },
      "execution_count": 7,
      "outputs": [
        {
          "output_type": "stream",
          "name": "stderr",
          "text": [
            "/usr/local/lib/python3.10/dist-packages/sklearn/linear_model/_logistic.py:458: ConvergenceWarning: lbfgs failed to converge (status=1):\n",
            "STOP: TOTAL NO. of ITERATIONS REACHED LIMIT.\n",
            "\n",
            "Increase the number of iterations (max_iter) or scale the data as shown in:\n",
            "    https://scikit-learn.org/stable/modules/preprocessing.html\n",
            "Please also refer to the documentation for alternative solver options:\n",
            "    https://scikit-learn.org/stable/modules/linear_model.html#logistic-regression\n",
            "  n_iter_i = _check_optimize_result(\n"
          ]
        },
        {
          "output_type": "stream",
          "name": "stdout",
          "text": [
            "Training Accuracy Logistic Regression 99.5009746084456  Test Accuracy Logistic Regression 99.50178970121529\n",
            "Training Precesion Logistic Regression 99.78974332887923  Test Precesion Logistic Regression 99.79423196128451\n",
            "Training Recall Logistic Regression 99.19386831254855  Test Recall Logistic Regression 99.19123141459903\n"
          ]
        },
        {
          "output_type": "display_data",
          "data": {
            "text/plain": [
              "<Figure size 1000x1000 with 2 Axes>"
            ],
            "image/png": "[encoded data removed]"
          },
          "metadata": {}
        }
      ]
    },
    {
      "cell_type": "code",
      "source": [],
      "metadata": {
        "id": "ye7fosyyV0Ca"
      },
      "execution_count": null,
      "outputs": []
    }
  ]
}