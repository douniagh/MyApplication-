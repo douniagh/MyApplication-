{
  "nbformat": 4,
  "nbformat_minor": 0,
  "metadata": {
    "colab": {
      "provenance": [],
      "machine_shape": "hm",
      "cell_execution_strategy": "setup",
      "include_colab_link": true
    },
    "kernelspec": {
      "name": "python3",
      "display_name": "Python 3"
    },
    "accelerator": "TPU"
  },
  "cells": [
    {
      "cell_type": "markdown",
      "metadata": {
        "id": "view-in-github",
        "colab_type": "text"
      },
      "source": [
        "<a href=\"https://colab.research.google.com/github/douniagh/MyApplication-/blob/main/DeepLearning2.ipynb\" target=\"_parent\"><img src=\"https://colab.research.google.com/assets/colab-badge.svg\" alt=\"Open In Colab\"/></a>"
      ]
    },
    {
      "cell_type": "code",
      "metadata": {
        "id": "tZRSiDYNQLSr",
        "colab": {
          "base_uri": "https://localhost:8080/"
        },
        "outputId": "76cece8e-ad1e-4638-944e-c70f19625488"
      },
      "source": [
        "import numpy as np\n",
        "import pandas as pd\n",
        "import os\n",
        "import cv2\n",
        "import math\n",
        "import random\n",
        "import matplotlib.pyplot as plt\n",
        "import shutil\n",
        "from sklearn.preprocessing import QuantileTransformer\n",
        "from PIL import Image\n",
        "import warnings\n",
        "warnings.filterwarnings(\"ignore\")\n",
        "from google.colab import drive\n",
        "drive.mount('/content/drive', force_remount=True)"
      ],
      "execution_count": 1,
      "outputs": [
        {
          "output_type": "stream",
          "name": "stdout",
          "text": [
            "Mounted at /content/drive\n"
          ]
        }
      ]
    },
    {
      "cell_type": "code",
      "metadata": {
        "id": "87T5BetZQYQv"
      },
      "source": [
        "import numpy as np\n",
        "import pandas as pd\n",
        "import matplotlib.pyplot as plt\n",
        "import warnings\n",
        "import os\n",
        "warnings.filterwarnings(\"ignore\")\n",
        "import keras\n",
        "from keras import backend as K\n",
        "from keras.models import Sequential\n",
        "from keras.layers import Input, Dense, Conv1D, Dropout, MaxPool1D, Flatten\n",
        "from sklearn.model_selection import train_test_split\n",
        "# cnn model\n",
        "from numpy import mean\n",
        "from numpy import std\n",
        "from numpy import dstack\n",
        "from pandas import read_csv\n",
        "from matplotlib import pyplot\n",
        "from keras.layers.convolutional import MaxPooling1D\n",
        "from keras.utils import to_categorical\n"
      ],
      "execution_count": 2,
      "outputs": []
    },
    {
      "cell_type": "code",
      "metadata": {
        "id": "YOckP_sYQcda",
        "colab": {
          "base_uri": "https://localhost:8080/"
        },
        "outputId": "6b333c82-4571-466e-baa0-6d72649d8d39"
      },
      "source": [
        "import pandas as pd\n",
        "\n",
        "# Replace 'your_train_data.csv' and 'your_test_data.csv' with the filenames of your train and test data files\n",
        "# Replace the appropriate paths if the files are in a different directory\n",
        "train_file = '/content/drive/MyDrive/DataSplits/train_data.csv'\n",
        "test_file = '/content/drive/MyDrive/DataSplits/test_data.csv'\n",
        "\n",
        "# Load train data from CSV\n",
        "train_df = pd.read_csv(train_file)\n",
        "\n",
        "# Extract features and labels from train data\n",
        "X_train = train_df.drop(columns=['Attack_type']).values\n",
        "y_train = train_df['Attack_type'].values\n",
        "\n",
        "# Load test data from CSV\n",
        "test_df = pd.read_csv(test_file)\n",
        "\n",
        "# Extract features and labels from test data\n",
        "X_test = test_df.drop(columns=['Attack_type']).values\n",
        "y_test = test_df['Attack_type'].values\n",
        "\n",
        "# Print the shapes of the train and test data to verify\n",
        "print(\"X_train shape:\", X_train.shape)\n",
        "print(\"y_train shape:\", y_train.shape)\n",
        "print(\"X_test shape:\", X_test.shape)\n",
        "print(\"y_test shape:\", y_test.shape)"
      ],
      "execution_count": 5,
      "outputs": [
        {
          "output_type": "stream",
          "name": "stdout",
          "text": [
            "X_train shape: (15834598, 40)\n",
            "y_train shape: (15834598,)\n",
            "X_test shape: (3958650, 40)\n",
            "y_test shape: (3958650,)\n"
          ]
        }
      ]
    },
    {
      "cell_type": "code",
      "metadata": {
        "id": "_F9FfyFSQl_5",
        "colab": {
          "base_uri": "https://localhost:8080/"
        },
        "outputId": "51609016-464c-4cba-8a10-4cd94500d2ac"
      },
      "source": [
        "import numpy as np\n",
        "\n",
        "# Assuming n_timesteps and n_features are pre-defined based on your dataset\n",
        "n_timesteps = 1\n",
        "n_features = 40\n",
        "\n",
        "# Reshape X_train and X_test\n",
        "X_train_reshaped = np.reshape(X_train, (X_train.shape[0], n_timesteps, n_features))\n",
        "X_test_reshaped = np.reshape(X_test, (X_test.shape[0], n_timesteps, n_features))\n",
        "\n",
        "# Print the new shapes of X_train and X_test to verify\n",
        "print(\"X_train shape:\", X_train_reshaped.shape)\n",
        "print(\"X_test shape:\", X_test_reshaped.shape)"
      ],
      "execution_count": 6,
      "outputs": [
        {
          "output_type": "stream",
          "name": "stdout",
          "text": [
            "X_train shape: (15834598, 1, 40)\n",
            "X_test shape: (3958650, 1, 40)\n"
          ]
        }
      ]
    },
    {
      "cell_type": "code",
      "source": [
        "from keras.utils import to_categorical\n",
        "# Assuming 'y_train' and 'y_test' are the original string labels\n",
        "label_mapping = {\n",
        "    'Normal': 0,\n",
        "    'DDoS_UDP': 1,\n",
        "    'DDoS_ICMP': 2,\n",
        "    'DDoS_TCP': 3,\n",
        "    'Password': 4,\n",
        "    'DDoS_HTTP': 5,\n",
        "    'Vulnerability_scanner': 6,\n",
        "    'SQL_injection': 7 ,\n",
        "    'Backdoor': 8 ,\n",
        "    'Uploading':  9,\n",
        "    'Port_Scanning': 10,\n",
        "    'XSS': 11  ,\n",
        "    'Ransomware': 12,\n",
        "    'MITM' :  13 ,\n",
        "    'OS_Fingerprinting':  14\n",
        "    # Add other classes and their corresponding integer values here\n",
        "}\n",
        "\n",
        "# Convert string labels to integer labels\n",
        "y_train = [label_mapping[label] for label in y_train]\n",
        "y_test = [label_mapping[label] for label in y_test]\n"
      ],
      "metadata": {
        "id": "1Qm3fHhPMTqM"
      },
      "execution_count": 7,
      "outputs": []
    },
    {
      "cell_type": "code",
      "source": [
        "y_train = np.array(y_train)\n",
        "y_test = np.array(y_test)"
      ],
      "metadata": {
        "id": "kGX39q8CWbPQ"
      },
      "execution_count": 10,
      "outputs": []
    },
    {
      "cell_type": "code",
      "source": [
        "from keras.models import Sequential\n",
        "from keras.layers import Conv1D, MaxPooling1D, Flatten, Dense, Dropout\n",
        "\n",
        "# Assuming you have already reshaped your data as mentioned before\n",
        "# X_train shape: (15834598, 1, 40)\n",
        "# X_test shape: (3958650, 1, 40)\n",
        "\n",
        "# Build the 1D CNN model\n",
        "model = Sequential()\n",
        "\n",
        "# Add layers to the model\n",
        "model.add(Conv1D(filters=32, kernel_size=3, activation='relu', input_shape=(40,1)))\n",
        "model.add(Conv1D(filters=32, kernel_size=3, activation='relu'))\n",
        "model.add(Dropout(0.5))\n",
        "model.add(MaxPooling1D(pool_size=1))\n",
        "model.add(Flatten())\n",
        "model.add(Dense(100, activation='relu'))\n",
        "model.add(Dense(15, activation='softmax'))  # Assuming you have 15 classes (adjust accordingly)\n",
        "\n",
        "# Print the summary of the model\n",
        "model.summary()\n"
      ],
      "metadata": {
        "colab": {
          "base_uri": "https://localhost:8080/"
        },
        "id": "6LYkd_QCNIIR",
        "outputId": "9f9b4288-76a4-4c25-e1d9-dc0539cf9d4c"
      },
      "execution_count": 4,
      "outputs": [
        {
          "output_type": "stream",
          "name": "stdout",
          "text": [
            "Model: \"sequential_2\"\n",
            "_________________________________________________________________\n",
            " Layer (type)                Output Shape              Param #   \n",
            "=================================================================\n",
            " conv1d_4 (Conv1D)           (None, 38, 32)            128       \n",
            "                                                                 \n",
            " conv1d_5 (Conv1D)           (None, 36, 32)            3104      \n",
            "                                                                 \n",
            " dropout_2 (Dropout)         (None, 36, 32)            0         \n",
            "                                                                 \n",
            " max_pooling1d_2 (MaxPooling  (None, 36, 32)           0         \n",
            " 1D)                                                             \n",
            "                                                                 \n",
            " flatten_2 (Flatten)         (None, 1152)              0         \n",
            "                                                                 \n",
            " dense_4 (Dense)             (None, 100)               115300    \n",
            "                                                                 \n",
            " dense_5 (Dense)             (None, 15)                1515      \n",
            "                                                                 \n",
            "=================================================================\n",
            "Total params: 120,047\n",
            "Trainable params: 120,047\n",
            "Non-trainable params: 0\n",
            "_________________________________________________________________\n"
          ]
        }
      ]
    },
    {
      "cell_type": "code",
      "source": [
        "# Compile the model\n",
        "model.compile(loss='sparse_categorical_crossentropy', optimizer='adam', metrics=['accuracy'])"
      ],
      "metadata": {
        "id": "zsi7mdK8T1ov"
      },
      "execution_count": 8,
      "outputs": []
    },
    {
      "cell_type": "code",
      "metadata": {
        "id": "xalsFDNyQp66",
        "colab": {
          "base_uri": "https://localhost:8080/"
        },
        "outputId": "4bcb45c5-1043-40f2-85bf-01089cf19c7b"
      },
      "source": [
        "# Train the model\n",
        "history = model.fit(X_train, y_train, batch_size=128, epochs=10, validation_data=(X_test, y_test))\n"
      ],
      "execution_count": null,
      "outputs": [
        {
          "output_type": "stream",
          "name": "stdout",
          "text": [
            "Epoch 1/10\n",
            "123708/123708 [==============================] - 965s 8ms/step - loss: 0.0041 - accuracy: 0.9987 - val_loss: 9.6700e-04 - val_accuracy: 0.9997\n",
            "Epoch 2/10\n",
            "123708/123708 [==============================] - 928s 7ms/step - loss: 0.0016 - accuracy: 0.9995 - val_loss: 8.5375e-04 - val_accuracy: 0.9997\n",
            "Epoch 3/10\n",
            "123708/123708 [==============================] - 914s 7ms/step - loss: 0.0015 - accuracy: 0.9996 - val_loss: 0.0015 - val_accuracy: 0.9996\n",
            "Epoch 4/10\n",
            "123708/123708 [==============================] - 923s 7ms/step - loss: 0.0014 - accuracy: 0.9996 - val_loss: 6.0804e-04 - val_accuracy: 0.9998\n",
            "Epoch 5/10\n",
            "123708/123708 [==============================] - 940s 8ms/step - loss: 0.0013 - accuracy: 0.9996 - val_loss: 4.7015e-04 - val_accuracy: 0.9998\n",
            "Epoch 6/10\n",
            "  6783/123708 [>.............................] - ETA: 13:49 - loss: 0.0012 - accuracy: 0.9996"
          ]
        }
      ]
    },
    {
      "cell_type": "code",
      "metadata": {
        "id": "XryjXIYhQ_gM"
      },
      "source": [
        "# Evaluate the model on test data\n",
        "loss, accuracy = model.evaluate(X_test, y_test)\n",
        "print(f'Test loss: {loss}, Test accuracy: {accuracy}')\n",
        "\n",
        "# Plot training and validation accuracy over epochs\n",
        "plt.plot(history.history['accuracy'], label='Training Accuracy')\n",
        "plt.plot(history.history['val_accuracy'], label='Validation Accuracy')\n",
        "plt.xlabel('Epoch')\n",
        "plt.ylabel('Accuracy')\n",
        "plt.legend()\n",
        "plt.show()\n",
        "\n",
        "# Plot training and validation loss over epochs\n",
        "plt.plot(history.history['loss'], label='Training Loss')\n",
        "plt.plot(history.history['val_loss'], label='Validation Loss')\n",
        "plt.xlabel('Epoch')\n",
        "plt.ylabel('Loss')\n",
        "plt.legend()\n",
        "plt.show()\n"
      ],
      "execution_count": null,
      "outputs": []
    }
  ]
}