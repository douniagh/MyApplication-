{
  "nbformat": 4,
  "nbformat_minor": 0,
  "metadata": {
    "colab": {
      "provenance": [],
      "machine_shape": "hm",
      "gpuType": "T4",
      "cell_execution_strategy": "setup",
      "history_visible": true,
      "include_colab_link": true
    },
    "kernelspec": {
      "name": "python3",
      "display_name": "Python 3"
    },
    "accelerator": "TPU"
  },
  "cells": [
    {
      "cell_type": "markdown",
      "metadata": {
        "id": "view-in-github",
        "colab_type": "text"
      },
      "source": [
        "<a href=\"https://colab.research.google.com/github/douniagh/MyApplication-/blob/main/DeepLearning1.ipynb\" target=\"_parent\"><img src=\"https://colab.research.google.com/assets/colab-badge.svg\" alt=\"Open In Colab\"/></a>"
      ]
    },
    {
      "cell_type": "code",
      "metadata": {
        "id": "tZRSiDYNQLSr",
        "colab": {
          "base_uri": "https://localhost:8080/"
        },
        "outputId": "ac252493-5db7-4940-8908-4db80a81bf42"
      },
      "source": [
        "import numpy as np\n",
        "import pandas as pd\n",
        "import os\n",
        "import cv2\n",
        "import math\n",
        "import random\n",
        "import matplotlib.pyplot as plt\n",
        "import shutil\n",
        "from sklearn.preprocessing import QuantileTransformer\n",
        "from PIL import Image\n",
        "import warnings\n",
        "warnings.filterwarnings(\"ignore\")\n",
        "from google.colab import drive\n",
        "drive.mount('/content/drive', force_remount=True)"
      ],
      "execution_count": 1,
      "outputs": [
        {
          "output_type": "stream",
          "name": "stdout",
          "text": [
            "Mounted at /content/drive\n"
          ]
        }
      ]
    },
    {
      "cell_type": "code",
      "metadata": {
        "id": "YOckP_sYQcda",
        "colab": {
          "base_uri": "https://localhost:8080/"
        },
        "outputId": "d2f06ea7-9e78-41b4-b11a-319278b5505e"
      },
      "source": [
        "df.Attack_type.value_counts()"
      ],
      "execution_count": null,
      "outputs": [
        {
          "output_type": "execute_result",
          "data": {
            "text/plain": [
              "Normal                   10066373\n",
              "DDoS_UDP                  3201626\n",
              "DDoS_ICMP                 2914354\n",
              "DDoS_TCP                  2020120\n",
              "Password                  1053385\n",
              "DDoS_HTTP                  229022\n",
              "Vulnerability_scanner      145869\n",
              "SQL_injection               51203\n",
              "Backdoor                    49724\n",
              "Uploading                   37634\n",
              "Port_Scanning               22564\n",
              "XSS                         15915\n",
              "Ransomware                  10925\n",
              "MITM                         2458\n",
              "OS_Fingerprinting            2002\n",
              "Name: Attack_type, dtype: int64"
            ]
          },
          "metadata": {},
          "execution_count": 3
        }
      ]
    },
    {
      "cell_type": "markdown",
      "source": [
        "## **Data Transformation**"
      ],
      "metadata": {
        "id": "xQUllirvNrtd"
      }
    },
    {
      "cell_type": "markdown",
      "source": [
        "Convert tabular data to images Procedures:\n",
        "\n",
        "Use quantile transform to transform the original data samples\n",
        "\n",
        "1  Élément de liste\n",
        "\n",
        "into the scale of [0,255], representing pixel values\n",
        "Generate images for each category (Normal, DoS, Fuzzy, Gear, RPM), each image consists of 27 data samples with 9 features. Thus, the size of each image is 993, length 9, width 9, and 3 color channels (RGB)."
      ],
      "metadata": {
        "id": "fVoNhyMgOB_q"
      }
    },
    {
      "cell_type": "code",
      "source": [
        "!pip install dask dask-ml"
      ],
      "metadata": {
        "id": "0Az1A6ceaHx1"
      },
      "execution_count": null,
      "outputs": []
    },
    {
      "cell_type": "code",
      "source": [
        "!pip install numpy==1.24.3"
      ],
      "metadata": {
        "colab": {
          "base_uri": "https://localhost:8080/"
        },
        "id": "j8E1D1FSaW70",
        "outputId": "d83e807f-7800-4a84-c7aa-e181f55c340c"
      },
      "execution_count": null,
      "outputs": [
        {
          "output_type": "stream",
          "name": "stdout",
          "text": [
            "Requirement already satisfied: numpy==1.24.3 in /usr/local/lib/python3.10/dist-packages (1.24.3)\n"
          ]
        }
      ]
    },
    {
      "cell_type": "code",
      "source": [
        "\n",
        "import pandas as pd\n",
        "\n",
        "# Assuming you have your DataFrame 'df'\n",
        "\n",
        "# List of columns to drop\n",
        "columns_to_drop = ['mqtt.conack.flags', 'arp.opcode', 'udp.port', 'udp.time_delta',\n",
        "                   'dns.qry.name.len', 'dns.qry.qu', 'dns.qry.type', 'dns.retransmission',\n",
        "                   'dns.retransmit_request', 'dns.retransmit_request_in', 'icmp.unused',\n",
        "                   'mqtt.conflag.cleansess', 'mqtt.conflags', 'icmp.transmit_timestamp',\n",
        "                   'mqtt.msg_decoded_as', 'mqtt.msg', 'mqtt.proto_len', 'mqtt.protoname',\n",
        "                   'mqtt.topic', 'mqtt.topic_len', 'mbtcp.trans_id', 'mbtcp.unit_id']\n",
        "\n",
        "# Drop the specified columns\n",
        "df = df.drop(columns=columns_to_drop)\n"
      ],
      "metadata": {
        "id": "1Zpw6kF6hqlJ"
      },
      "execution_count": null,
      "outputs": []
    },
    {
      "cell_type": "code",
      "source": [
        "# Drop duplicates\n",
        "df = df.drop_duplicates()\n",
        "\n",
        "# Handle missing values\n",
        "df = df.dropna()"
      ],
      "metadata": {
        "id": "bWWbkzmLdoUI"
      },
      "execution_count": null,
      "outputs": []
    },
    {
      "cell_type": "code",
      "source": [
        "df.head()"
      ],
      "metadata": {
        "colab": {
          "base_uri": "https://localhost:8080/",
          "height": 300
        },
        "id": "BNmTYc8bjdlT",
        "outputId": "6c604875-7891-4721-c174-8a232d6dbc7c"
      },
      "execution_count": null,
      "outputs": [
        {
          "output_type": "execute_result",
          "data": {
            "text/plain": [
              "   frame.time  ip.src_host  ip.dst_host  arp.dst.proto_ipv4  arp.hw.size  \\\n",
              "0           0        72611        32675                   0            0   \n",
              "1           1        29380        32675                   0            0   \n",
              "2           2       100682        32675                   0            0   \n",
              "3           3        83941        32675                   0            0   \n",
              "4           4        91591        32675                   0            0   \n",
              "\n",
              "   arp.src.proto_ipv4  icmp.checksum  icmp.seq_le  http.file_data  \\\n",
              "0                   0          19187         7091               0   \n",
              "1                   0          18931         7102               0   \n",
              "2                   0          18675         7114               0   \n",
              "3                   0          18419         7125               0   \n",
              "4                   0          18163         7136               0   \n",
              "\n",
              "   http.content_length  ...  tcp.srcport  udp.stream  dns.qry.name  \\\n",
              "0                    0  ...            0           0             0   \n",
              "1                    0  ...            0           0             0   \n",
              "2                    0  ...            0           0             0   \n",
              "3                    0  ...            0           0             0   \n",
              "4                    0  ...            0           0             0   \n",
              "\n",
              "   mqtt.hdrflags  mqtt.len  mqtt.msgtype  mqtt.ver  mbtcp.len  Attack_label  \\\n",
              "0              0         0             0         0          0             0   \n",
              "1              0         0             0         0          0             0   \n",
              "2              0         0             0         0          0             0   \n",
              "3              0         0             0         0          0             0   \n",
              "4              0         0             0         0          0             0   \n",
              "\n",
              "   Attack_type  \n",
              "0    DDoS_ICMP  \n",
              "1    DDoS_ICMP  \n",
              "2    DDoS_ICMP  \n",
              "3    DDoS_ICMP  \n",
              "4    DDoS_ICMP  \n",
              "\n",
              "[5 rows x 41 columns]"
            ],
            "text/html": [
              "\n",
              "\n",
              "  <div id=\"df-b83c4df1-d33e-492b-8627-78915253b80a\">\n",
              "    <div class=\"colab-df-container\">\n",
              "      <div>\n",
              "<style scoped>\n",
              "    .dataframe tbody tr th:only-of-type {\n",
              "        vertical-align: middle;\n",
              "    }\n",
              "\n",
              "    .dataframe tbody tr th {\n",
              "        vertical-align: top;\n",
              "    }\n",
              "\n",
              "    .dataframe thead th {\n",
              "        text-align: right;\n",
              "    }\n",
              "</style>\n",
              "<table border=\"1\" class=\"dataframe\">\n",
              "  <thead>\n",
              "    <tr style=\"text-align: right;\">\n",
              "      <th></th>\n",
              "      <th>frame.time</th>\n",
              "      <th>ip.src_host</th>\n",
              "      <th>ip.dst_host</th>\n",
              "      <th>arp.dst.proto_ipv4</th>\n",
              "      <th>arp.hw.size</th>\n",
              "      <th>arp.src.proto_ipv4</th>\n",
              "      <th>icmp.checksum</th>\n",
              "      <th>icmp.seq_le</th>\n",
              "      <th>http.file_data</th>\n",
              "      <th>http.content_length</th>\n",
              "      <th>...</th>\n",
              "      <th>tcp.srcport</th>\n",
              "      <th>udp.stream</th>\n",
              "      <th>dns.qry.name</th>\n",
              "      <th>mqtt.hdrflags</th>\n",
              "      <th>mqtt.len</th>\n",
              "      <th>mqtt.msgtype</th>\n",
              "      <th>mqtt.ver</th>\n",
              "      <th>mbtcp.len</th>\n",
              "      <th>Attack_label</th>\n",
              "      <th>Attack_type</th>\n",
              "    </tr>\n",
              "  </thead>\n",
              "  <tbody>\n",
              "    <tr>\n",
              "      <th>0</th>\n",
              "      <td>0</td>\n",
              "      <td>72611</td>\n",
              "      <td>32675</td>\n",
              "      <td>0</td>\n",
              "      <td>0</td>\n",
              "      <td>0</td>\n",
              "      <td>19187</td>\n",
              "      <td>7091</td>\n",
              "      <td>0</td>\n",
              "      <td>0</td>\n",
              "      <td>...</td>\n",
              "      <td>0</td>\n",
              "      <td>0</td>\n",
              "      <td>0</td>\n",
              "      <td>0</td>\n",
              "      <td>0</td>\n",
              "      <td>0</td>\n",
              "      <td>0</td>\n",
              "      <td>0</td>\n",
              "      <td>0</td>\n",
              "      <td>DDoS_ICMP</td>\n",
              "    </tr>\n",
              "    <tr>\n",
              "      <th>1</th>\n",
              "      <td>1</td>\n",
              "      <td>29380</td>\n",
              "      <td>32675</td>\n",
              "      <td>0</td>\n",
              "      <td>0</td>\n",
              "      <td>0</td>\n",
              "      <td>18931</td>\n",
              "      <td>7102</td>\n",
              "      <td>0</td>\n",
              "      <td>0</td>\n",
              "      <td>...</td>\n",
              "      <td>0</td>\n",
              "      <td>0</td>\n",
              "      <td>0</td>\n",
              "      <td>0</td>\n",
              "      <td>0</td>\n",
              "      <td>0</td>\n",
              "      <td>0</td>\n",
              "      <td>0</td>\n",
              "      <td>0</td>\n",
              "      <td>DDoS_ICMP</td>\n",
              "    </tr>\n",
              "    <tr>\n",
              "      <th>2</th>\n",
              "      <td>2</td>\n",
              "      <td>100682</td>\n",
              "      <td>32675</td>\n",
              "      <td>0</td>\n",
              "      <td>0</td>\n",
              "      <td>0</td>\n",
              "      <td>18675</td>\n",
              "      <td>7114</td>\n",
              "      <td>0</td>\n",
              "      <td>0</td>\n",
              "      <td>...</td>\n",
              "      <td>0</td>\n",
              "      <td>0</td>\n",
              "      <td>0</td>\n",
              "      <td>0</td>\n",
              "      <td>0</td>\n",
              "      <td>0</td>\n",
              "      <td>0</td>\n",
              "      <td>0</td>\n",
              "      <td>0</td>\n",
              "      <td>DDoS_ICMP</td>\n",
              "    </tr>\n",
              "    <tr>\n",
              "      <th>3</th>\n",
              "      <td>3</td>\n",
              "      <td>83941</td>\n",
              "      <td>32675</td>\n",
              "      <td>0</td>\n",
              "      <td>0</td>\n",
              "      <td>0</td>\n",
              "      <td>18419</td>\n",
              "      <td>7125</td>\n",
              "      <td>0</td>\n",
              "      <td>0</td>\n",
              "      <td>...</td>\n",
              "      <td>0</td>\n",
              "      <td>0</td>\n",
              "      <td>0</td>\n",
              "      <td>0</td>\n",
              "      <td>0</td>\n",
              "      <td>0</td>\n",
              "      <td>0</td>\n",
              "      <td>0</td>\n",
              "      <td>0</td>\n",
              "      <td>DDoS_ICMP</td>\n",
              "    </tr>\n",
              "    <tr>\n",
              "      <th>4</th>\n",
              "      <td>4</td>\n",
              "      <td>91591</td>\n",
              "      <td>32675</td>\n",
              "      <td>0</td>\n",
              "      <td>0</td>\n",
              "      <td>0</td>\n",
              "      <td>18163</td>\n",
              "      <td>7136</td>\n",
              "      <td>0</td>\n",
              "      <td>0</td>\n",
              "      <td>...</td>\n",
              "      <td>0</td>\n",
              "      <td>0</td>\n",
              "      <td>0</td>\n",
              "      <td>0</td>\n",
              "      <td>0</td>\n",
              "      <td>0</td>\n",
              "      <td>0</td>\n",
              "      <td>0</td>\n",
              "      <td>0</td>\n",
              "      <td>DDoS_ICMP</td>\n",
              "    </tr>\n",
              "  </tbody>\n",
              "</table>\n",
              "<p>5 rows × 41 columns</p>\n",
              "</div>\n",
              "      <button class=\"colab-df-convert\" onclick=\"convertToInteractive('df-b83c4df1-d33e-492b-8627-78915253b80a')\"\n",
              "              title=\"Convert this dataframe to an interactive table.\"\n",
              "              style=\"display:none;\">\n",
              "\n",
              "  <svg xmlns=\"http://www.w3.org/2000/svg\" height=\"24px\"viewBox=\"0 0 24 24\"\n",
              "       width=\"24px\">\n",
              "    <path d=\"M0 0h24v24H0V0z\" fill=\"none\"/>\n",
              "    <path d=\"M18.56 5.44l.94 2.06.94-2.06 2.06-.94-2.06-.94-.94-2.06-.94 2.06-2.06.94zm-11 1L8.5 8.5l.94-2.06 2.06-.94-2.06-.94L8.5 2.5l-.94 2.06-2.06.94zm10 10l.94 2.06.94-2.06 2.06-.94-2.06-.94-.94-2.06-.94 2.06-2.06.94z\"/><path d=\"M17.41 7.96l-1.37-1.37c-.4-.4-.92-.59-1.43-.59-.52 0-1.04.2-1.43.59L10.3 9.45l-7.72 7.72c-.78.78-.78 2.05 0 2.83L4 21.41c.39.39.9.59 1.41.59.51 0 1.02-.2 1.41-.59l7.78-7.78 2.81-2.81c.8-.78.8-2.07 0-2.86zM5.41 20L4 18.59l7.72-7.72 1.47 1.35L5.41 20z\"/>\n",
              "  </svg>\n",
              "      </button>\n",
              "\n",
              "\n",
              "\n",
              "    <div id=\"df-14463d13-19c1-4194-b4f6-cc573600fbd6\">\n",
              "      <button class=\"colab-df-quickchart\" onclick=\"quickchart('df-14463d13-19c1-4194-b4f6-cc573600fbd6')\"\n",
              "              title=\"Suggest charts.\"\n",
              "              style=\"display:none;\">\n",
              "\n",
              "<svg xmlns=\"http://www.w3.org/2000/svg\" height=\"24px\"viewBox=\"0 0 24 24\"\n",
              "     width=\"24px\">\n",
              "    <g>\n",
              "        <path d=\"M19 3H5c-1.1 0-2 .9-2 2v14c0 1.1.9 2 2 2h14c1.1 0 2-.9 2-2V5c0-1.1-.9-2-2-2zM9 17H7v-7h2v7zm4 0h-2V7h2v10zm4 0h-2v-4h2v4z\"/>\n",
              "    </g>\n",
              "</svg>\n",
              "      </button>\n",
              "    </div>\n",
              "\n",
              "<style>\n",
              "  .colab-df-quickchart {\n",
              "    background-color: #E8F0FE;\n",
              "    border: none;\n",
              "    border-radius: 50%;\n",
              "    cursor: pointer;\n",
              "    display: none;\n",
              "    fill: #1967D2;\n",
              "    height: 32px;\n",
              "    padding: 0 0 0 0;\n",
              "    width: 32px;\n",
              "  }\n",
              "\n",
              "  .colab-df-quickchart:hover {\n",
              "    background-color: #E2EBFA;\n",
              "    box-shadow: 0px 1px 2px rgba(60, 64, 67, 0.3), 0px 1px 3px 1px rgba(60, 64, 67, 0.15);\n",
              "    fill: #174EA6;\n",
              "  }\n",
              "\n",
              "  [theme=dark] .colab-df-quickchart {\n",
              "    background-color: #3B4455;\n",
              "    fill: #D2E3FC;\n",
              "  }\n",
              "\n",
              "  [theme=dark] .colab-df-quickchart:hover {\n",
              "    background-color: #434B5C;\n",
              "    box-shadow: 0px 1px 3px 1px rgba(0, 0, 0, 0.15);\n",
              "    filter: drop-shadow(0px 1px 2px rgba(0, 0, 0, 0.3));\n",
              "    fill: #FFFFFF;\n",
              "  }\n",
              "</style>\n",
              "\n",
              "    <script>\n",
              "      async function quickchart(key) {\n",
              "        const containerElement = document.querySelector('#' + key);\n",
              "        const charts = await google.colab.kernel.invokeFunction(\n",
              "            'suggestCharts', [key], {});\n",
              "      }\n",
              "    </script>\n",
              "\n",
              "      <script>\n",
              "\n",
              "function displayQuickchartButton(domScope) {\n",
              "  let quickchartButtonEl =\n",
              "    domScope.querySelector('#df-14463d13-19c1-4194-b4f6-cc573600fbd6 button.colab-df-quickchart');\n",
              "  quickchartButtonEl.style.display =\n",
              "    google.colab.kernel.accessAllowed ? 'block' : 'none';\n",
              "}\n",
              "\n",
              "        displayQuickchartButton(document);\n",
              "      </script>\n",
              "      <style>\n",
              "    .colab-df-container {\n",
              "      display:flex;\n",
              "      flex-wrap:wrap;\n",
              "      gap: 12px;\n",
              "    }\n",
              "\n",
              "    .colab-df-convert {\n",
              "      background-color: #E8F0FE;\n",
              "      border: none;\n",
              "      border-radius: 50%;\n",
              "      cursor: pointer;\n",
              "      display: none;\n",
              "      fill: #1967D2;\n",
              "      height: 32px;\n",
              "      padding: 0 0 0 0;\n",
              "      width: 32px;\n",
              "    }\n",
              "\n",
              "    .colab-df-convert:hover {\n",
              "      background-color: #E2EBFA;\n",
              "      box-shadow: 0px 1px 2px rgba(60, 64, 67, 0.3), 0px 1px 3px 1px rgba(60, 64, 67, 0.15);\n",
              "      fill: #174EA6;\n",
              "    }\n",
              "\n",
              "    [theme=dark] .colab-df-convert {\n",
              "      background-color: #3B4455;\n",
              "      fill: #D2E3FC;\n",
              "    }\n",
              "\n",
              "    [theme=dark] .colab-df-convert:hover {\n",
              "      background-color: #434B5C;\n",
              "      box-shadow: 0px 1px 3px 1px rgba(0, 0, 0, 0.15);\n",
              "      filter: drop-shadow(0px 1px 2px rgba(0, 0, 0, 0.3));\n",
              "      fill: #FFFFFF;\n",
              "    }\n",
              "  </style>\n",
              "\n",
              "      <script>\n",
              "        const buttonEl =\n",
              "          document.querySelector('#df-b83c4df1-d33e-492b-8627-78915253b80a button.colab-df-convert');\n",
              "        buttonEl.style.display =\n",
              "          google.colab.kernel.accessAllowed ? 'block' : 'none';\n",
              "\n",
              "        async function convertToInteractive(key) {\n",
              "          const element = document.querySelector('#df-b83c4df1-d33e-492b-8627-78915253b80a');\n",
              "          const dataTable =\n",
              "            await google.colab.kernel.invokeFunction('convertToInteractive',\n",
              "                                                     [key], {});\n",
              "          if (!dataTable) return;\n",
              "\n",
              "          const docLinkHtml = 'Like what you see? Visit the ' +\n",
              "            '<a target=\"_blank\" href=https://colab.research.google.com/notebooks/data_table.ipynb>data table notebook</a>'\n",
              "            + ' to learn more about interactive tables.';\n",
              "          element.innerHTML = '';\n",
              "          dataTable['output_type'] = 'display_data';\n",
              "          await google.colab.output.renderOutput(dataTable, element);\n",
              "          const docLink = document.createElement('div');\n",
              "          docLink.innerHTML = docLinkHtml;\n",
              "          element.appendChild(docLink);\n",
              "        }\n",
              "      </script>\n",
              "    </div>\n",
              "  </div>\n"
            ]
          },
          "metadata": {},
          "execution_count": 5
        }
      ]
    },
    {
      "cell_type": "code",
      "source": [
        "from sklearn.preprocessing import MinMaxScaler\n",
        "\n",
        "# Initialize the MinMaxScaler\n",
        "scaler = MinMaxScaler()\n",
        "\n",
        "# Define a function to apply scaling to a partition\n",
        "def scale_partition(partition):\n",
        "    for col in partition.columns:\n",
        "        # Skip the label column\n",
        "        if col == 'Attack_type':\n",
        "            continue\n",
        "        # Apply scaling to non-numeric columns\n",
        "        if partition[col].dtype == 'int64':  # Assuming the encoded data type is int64\n",
        "            partition[col] = scaler.fit_transform(partition[col].values.reshape(-1, 1))\n",
        "    return partition\n",
        "\n",
        "# Apply scaling to each partition in the DataFrame\n",
        "scaled_df = df.map_partitions(scale_partition)\n",
        "\n",
        "# Compute the scaled DataFrame\n",
        "scaled_df = scaled_df.compute()\n",
        "\n",
        "# Print the scaled DataFrame\n",
        "print(scaled_df.head())"
      ],
      "metadata": {
        "id": "Ep3uvau6nUb1"
      },
      "execution_count": null,
      "outputs": []
    },
    {
      "cell_type": "code",
      "source": [
        "\n",
        "from sklearn.preprocessing import MinMaxScaler,QuantileTransformer\n",
        "\n",
        "# Initialize the MinMaxScaler\n",
        "scaler = QuantileTransformer()\n",
        "\n",
        "# Define a function to apply scaling to a partition\n",
        "def scale_partition(partition):\n",
        "    for col in partition.columns:\n",
        "        # Skip the label column\n",
        "        if col == 'Attack_type':\n",
        "            continue\n",
        "        # Apply scaling to non-numeric columns\n",
        "        if partition[col].dtype == 'int64':  # Assuming the encoded data type is int64\n",
        "            partition[col] = scaler.fit_transform(partition[col].values.reshape(-1, 1))\n",
        "    return partition\n",
        "\n",
        "# Apply scaling to each partition in the DataFrame\n",
        "scaled_df = df.map_partitions(scale_partition)\n",
        "\n",
        "# Compute the scaled DataFrame\n",
        "scaled_df = scaled_df.compute()\n",
        "\n",
        "# Print the scaled DataFrame\n",
        "print(scaled_df.head())"
      ],
      "metadata": {
        "id": "ouaMDIffi3zZ",
        "outputId": "215912b1-c8c7-49fc-c1e5-1dd905e124ac",
        "colab": {
          "base_uri": "https://localhost:8080/"
        }
      },
      "execution_count": null,
      "outputs": [
        {
          "output_type": "stream",
          "name": "stdout",
          "text": [
            "   frame.time  ip.src_host  ip.dst_host  arp.dst.proto_ipv4  arp.hw.size  \\\n",
            "0    0.000000     0.917372     0.954955                 0.0          0.0   \n",
            "1    0.000334     0.806023     0.954955                 0.0          0.0   \n",
            "2    0.000667     0.950675     0.954955                 0.0          0.0   \n",
            "3    0.001502     0.936735     0.954955                 0.0          0.0   \n",
            "4    0.004505     0.943513     0.954955                 0.0          0.0   \n",
            "\n",
            "   arp.src.proto_ipv4  icmp.checksum  icmp.seq_le  http.file_data  \\\n",
            "0                 0.0       0.900135     0.862567             0.0   \n",
            "1                 0.0       0.899654     0.862592             0.0   \n",
            "2                 0.0       0.899165     0.862621             0.0   \n",
            "3                 0.0       0.898385     0.862646             0.0   \n",
            "4                 0.0       0.897691     0.862672             0.0   \n",
            "\n",
            "   http.content_length  ...  tcp.srcport  udp.stream  dns.qry.name  \\\n",
            "0                  0.0  ...          0.0         0.0           0.0   \n",
            "1                  0.0  ...          0.0         0.0           0.0   \n",
            "2                  0.0  ...          0.0         0.0           0.0   \n",
            "3                  0.0  ...          0.0         0.0           0.0   \n",
            "4                  0.0  ...          0.0         0.0           0.0   \n",
            "\n",
            "   mqtt.hdrflags  mqtt.len  mqtt.msgtype  mqtt.ver  mbtcp.len  Attack_label  \\\n",
            "0            0.0       0.0           0.0       0.0        0.0           0.0   \n",
            "1            0.0       0.0           0.0       0.0        0.0           0.0   \n",
            "2            0.0       0.0           0.0       0.0        0.0           0.0   \n",
            "3            0.0       0.0           0.0       0.0        0.0           0.0   \n",
            "4            0.0       0.0           0.0       0.0        0.0           0.0   \n",
            "\n",
            "   Attack_type  \n",
            "0    DDoS_ICMP  \n",
            "1    DDoS_ICMP  \n",
            "2    DDoS_ICMP  \n",
            "3    DDoS_ICMP  \n",
            "4    DDoS_ICMP  \n",
            "\n",
            "[5 rows x 41 columns]\n"
          ]
        }
      ]
    },
    {
      "cell_type": "code",
      "metadata": {
        "id": "xalsFDNyQp66"
      },
      "source": [
        "df.describe()"
      ],
      "execution_count": null,
      "outputs": []
    },
    {
      "cell_type": "code",
      "source": [
        "import pandas as pd\n",
        "\n",
        "# Define the file path\n",
        "file_path = '/content/drive/MyDrive/dl_final.csv'\n",
        "\n",
        "df = pd.read_csv(file_path,low_memory= False)\n",
        "df.head()"
      ],
      "metadata": {
        "id": "vF7WGcKqrtNl",
        "outputId": "19db3158-7d2b-40c2-bce7-979c761170b2",
        "colab": {
          "base_uri": "https://localhost:8080/",
          "height": 300
        }
      },
      "execution_count": 2,
      "outputs": [
        {
          "output_type": "execute_result",
          "data": {
            "text/plain": [
              "   frame.time  ip.src_host  ip.dst_host  arp.dst.proto_ipv4  arp.hw.size  \\\n",
              "0    0.196060     0.847133     0.809810                 0.0          0.0   \n",
              "1    0.974298     0.138639     0.538038                 0.0          0.0   \n",
              "2    0.361698     0.138639     0.538038                 0.0          0.0   \n",
              "3    0.080670     0.000000     0.000000                 0.0          0.0   \n",
              "4    0.290707     0.370871     0.300801                 0.0          0.0   \n",
              "\n",
              "   arp.src.proto_ipv4  icmp.checksum  icmp.seq_le  http.file_data  \\\n",
              "0                 0.0       0.875565     0.942091             0.0   \n",
              "1                 0.0       0.000000     0.000000             0.0   \n",
              "2                 0.0       0.000000     0.000000             0.0   \n",
              "3                 0.0       0.000000     0.000000             0.0   \n",
              "4                 0.0       0.000000     0.000000             0.0   \n",
              "\n",
              "   http.content_length  ...  tcp.srcport  udp.stream  dns.qry.name  \\\n",
              "0                  0.0  ...     0.000000         0.0           0.0   \n",
              "1                  0.0  ...     0.293794         0.0           0.0   \n",
              "2                  0.0  ...     0.293794         0.0           0.0   \n",
              "3                  0.0  ...     0.419920         0.0           0.0   \n",
              "4                  0.0  ...     0.616036         0.0           0.0   \n",
              "\n",
              "   mqtt.hdrflags  mqtt.len  mqtt.msgtype  mqtt.ver  mbtcp.len  Attack_label  \\\n",
              "0       0.000000  0.000000           0.0       0.0        0.0           0.0   \n",
              "1       0.000000  0.000000           0.0       0.0        0.0           0.0   \n",
              "2       0.000000  0.000000           0.0       0.0        0.0           0.0   \n",
              "3       0.000000  0.000000           0.0       0.0        0.0           0.0   \n",
              "4       0.956957  0.961962           1.0       0.0        0.0           0.0   \n",
              "\n",
              "   Attack_type  \n",
              "0    DDoS_ICMP  \n",
              "1       Normal  \n",
              "2       Normal  \n",
              "3       Normal  \n",
              "4       Normal  \n",
              "\n",
              "[5 rows x 41 columns]"
            ],
            "text/html": [
              "\n",
              "\n",
              "  <div id=\"df-a1445149-5545-4099-9d8b-f1f76935c6b4\">\n",
              "    <div class=\"colab-df-container\">\n",
              "      <div>\n",
              "<style scoped>\n",
              "    .dataframe tbody tr th:only-of-type {\n",
              "        vertical-align: middle;\n",
              "    }\n",
              "\n",
              "    .dataframe tbody tr th {\n",
              "        vertical-align: top;\n",
              "    }\n",
              "\n",
              "    .dataframe thead th {\n",
              "        text-align: right;\n",
              "    }\n",
              "</style>\n",
              "<table border=\"1\" class=\"dataframe\">\n",
              "  <thead>\n",
              "    <tr style=\"text-align: right;\">\n",
              "      <th></th>\n",
              "      <th>frame.time</th>\n",
              "      <th>ip.src_host</th>\n",
              "      <th>ip.dst_host</th>\n",
              "      <th>arp.dst.proto_ipv4</th>\n",
              "      <th>arp.hw.size</th>\n",
              "      <th>arp.src.proto_ipv4</th>\n",
              "      <th>icmp.checksum</th>\n",
              "      <th>icmp.seq_le</th>\n",
              "      <th>http.file_data</th>\n",
              "      <th>http.content_length</th>\n",
              "      <th>...</th>\n",
              "      <th>tcp.srcport</th>\n",
              "      <th>udp.stream</th>\n",
              "      <th>dns.qry.name</th>\n",
              "      <th>mqtt.hdrflags</th>\n",
              "      <th>mqtt.len</th>\n",
              "      <th>mqtt.msgtype</th>\n",
              "      <th>mqtt.ver</th>\n",
              "      <th>mbtcp.len</th>\n",
              "      <th>Attack_label</th>\n",
              "      <th>Attack_type</th>\n",
              "    </tr>\n",
              "  </thead>\n",
              "  <tbody>\n",
              "    <tr>\n",
              "      <th>0</th>\n",
              "      <td>0.196060</td>\n",
              "      <td>0.847133</td>\n",
              "      <td>0.809810</td>\n",
              "      <td>0.0</td>\n",
              "      <td>0.0</td>\n",
              "      <td>0.0</td>\n",
              "      <td>0.875565</td>\n",
              "      <td>0.942091</td>\n",
              "      <td>0.0</td>\n",
              "      <td>0.0</td>\n",
              "      <td>...</td>\n",
              "      <td>0.000000</td>\n",
              "      <td>0.0</td>\n",
              "      <td>0.0</td>\n",
              "      <td>0.000000</td>\n",
              "      <td>0.000000</td>\n",
              "      <td>0.0</td>\n",
              "      <td>0.0</td>\n",
              "      <td>0.0</td>\n",
              "      <td>0.0</td>\n",
              "      <td>DDoS_ICMP</td>\n",
              "    </tr>\n",
              "    <tr>\n",
              "      <th>1</th>\n",
              "      <td>0.974298</td>\n",
              "      <td>0.138639</td>\n",
              "      <td>0.538038</td>\n",
              "      <td>0.0</td>\n",
              "      <td>0.0</td>\n",
              "      <td>0.0</td>\n",
              "      <td>0.000000</td>\n",
              "      <td>0.000000</td>\n",
              "      <td>0.0</td>\n",
              "      <td>0.0</td>\n",
              "      <td>...</td>\n",
              "      <td>0.293794</td>\n",
              "      <td>0.0</td>\n",
              "      <td>0.0</td>\n",
              "      <td>0.000000</td>\n",
              "      <td>0.000000</td>\n",
              "      <td>0.0</td>\n",
              "      <td>0.0</td>\n",
              "      <td>0.0</td>\n",
              "      <td>0.0</td>\n",
              "      <td>Normal</td>\n",
              "    </tr>\n",
              "    <tr>\n",
              "      <th>2</th>\n",
              "      <td>0.361698</td>\n",
              "      <td>0.138639</td>\n",
              "      <td>0.538038</td>\n",
              "      <td>0.0</td>\n",
              "      <td>0.0</td>\n",
              "      <td>0.0</td>\n",
              "      <td>0.000000</td>\n",
              "      <td>0.000000</td>\n",
              "      <td>0.0</td>\n",
              "      <td>0.0</td>\n",
              "      <td>...</td>\n",
              "      <td>0.293794</td>\n",
              "      <td>0.0</td>\n",
              "      <td>0.0</td>\n",
              "      <td>0.000000</td>\n",
              "      <td>0.000000</td>\n",
              "      <td>0.0</td>\n",
              "      <td>0.0</td>\n",
              "      <td>0.0</td>\n",
              "      <td>0.0</td>\n",
              "      <td>Normal</td>\n",
              "    </tr>\n",
              "    <tr>\n",
              "      <th>3</th>\n",
              "      <td>0.080670</td>\n",
              "      <td>0.000000</td>\n",
              "      <td>0.000000</td>\n",
              "      <td>0.0</td>\n",
              "      <td>0.0</td>\n",
              "      <td>0.0</td>\n",
              "      <td>0.000000</td>\n",
              "      <td>0.000000</td>\n",
              "      <td>0.0</td>\n",
              "      <td>0.0</td>\n",
              "      <td>...</td>\n",
              "      <td>0.419920</td>\n",
              "      <td>0.0</td>\n",
              "      <td>0.0</td>\n",
              "      <td>0.000000</td>\n",
              "      <td>0.000000</td>\n",
              "      <td>0.0</td>\n",
              "      <td>0.0</td>\n",
              "      <td>0.0</td>\n",
              "      <td>0.0</td>\n",
              "      <td>Normal</td>\n",
              "    </tr>\n",
              "    <tr>\n",
              "      <th>4</th>\n",
              "      <td>0.290707</td>\n",
              "      <td>0.370871</td>\n",
              "      <td>0.300801</td>\n",
              "      <td>0.0</td>\n",
              "      <td>0.0</td>\n",
              "      <td>0.0</td>\n",
              "      <td>0.000000</td>\n",
              "      <td>0.000000</td>\n",
              "      <td>0.0</td>\n",
              "      <td>0.0</td>\n",
              "      <td>...</td>\n",
              "      <td>0.616036</td>\n",
              "      <td>0.0</td>\n",
              "      <td>0.0</td>\n",
              "      <td>0.956957</td>\n",
              "      <td>0.961962</td>\n",
              "      <td>1.0</td>\n",
              "      <td>0.0</td>\n",
              "      <td>0.0</td>\n",
              "      <td>0.0</td>\n",
              "      <td>Normal</td>\n",
              "    </tr>\n",
              "  </tbody>\n",
              "</table>\n",
              "<p>5 rows × 41 columns</p>\n",
              "</div>\n",
              "      <button class=\"colab-df-convert\" onclick=\"convertToInteractive('df-a1445149-5545-4099-9d8b-f1f76935c6b4')\"\n",
              "              title=\"Convert this dataframe to an interactive table.\"\n",
              "              style=\"display:none;\">\n",
              "\n",
              "  <svg xmlns=\"http://www.w3.org/2000/svg\" height=\"24px\"viewBox=\"0 0 24 24\"\n",
              "       width=\"24px\">\n",
              "    <path d=\"M0 0h24v24H0V0z\" fill=\"none\"/>\n",
              "    <path d=\"M18.56 5.44l.94 2.06.94-2.06 2.06-.94-2.06-.94-.94-2.06-.94 2.06-2.06.94zm-11 1L8.5 8.5l.94-2.06 2.06-.94-2.06-.94L8.5 2.5l-.94 2.06-2.06.94zm10 10l.94 2.06.94-2.06 2.06-.94-2.06-.94-.94-2.06-.94 2.06-2.06.94z\"/><path d=\"M17.41 7.96l-1.37-1.37c-.4-.4-.92-.59-1.43-.59-.52 0-1.04.2-1.43.59L10.3 9.45l-7.72 7.72c-.78.78-.78 2.05 0 2.83L4 21.41c.39.39.9.59 1.41.59.51 0 1.02-.2 1.41-.59l7.78-7.78 2.81-2.81c.8-.78.8-2.07 0-2.86zM5.41 20L4 18.59l7.72-7.72 1.47 1.35L5.41 20z\"/>\n",
              "  </svg>\n",
              "      </button>\n",
              "\n",
              "\n",
              "\n",
              "    <div id=\"df-aee3ba01-6a26-47bc-8bb9-fcc6fc9d316a\">\n",
              "      <button class=\"colab-df-quickchart\" onclick=\"quickchart('df-aee3ba01-6a26-47bc-8bb9-fcc6fc9d316a')\"\n",
              "              title=\"Suggest charts.\"\n",
              "              style=\"display:none;\">\n",
              "\n",
              "<svg xmlns=\"http://www.w3.org/2000/svg\" height=\"24px\"viewBox=\"0 0 24 24\"\n",
              "     width=\"24px\">\n",
              "    <g>\n",
              "        <path d=\"M19 3H5c-1.1 0-2 .9-2 2v14c0 1.1.9 2 2 2h14c1.1 0 2-.9 2-2V5c0-1.1-.9-2-2-2zM9 17H7v-7h2v7zm4 0h-2V7h2v10zm4 0h-2v-4h2v4z\"/>\n",
              "    </g>\n",
              "</svg>\n",
              "      </button>\n",
              "    </div>\n",
              "\n",
              "<style>\n",
              "  .colab-df-quickchart {\n",
              "    background-color: #E8F0FE;\n",
              "    border: none;\n",
              "    border-radius: 50%;\n",
              "    cursor: pointer;\n",
              "    display: none;\n",
              "    fill: #1967D2;\n",
              "    height: 32px;\n",
              "    padding: 0 0 0 0;\n",
              "    width: 32px;\n",
              "  }\n",
              "\n",
              "  .colab-df-quickchart:hover {\n",
              "    background-color: #E2EBFA;\n",
              "    box-shadow: 0px 1px 2px rgba(60, 64, 67, 0.3), 0px 1px 3px 1px rgba(60, 64, 67, 0.15);\n",
              "    fill: #174EA6;\n",
              "  }\n",
              "\n",
              "  [theme=dark] .colab-df-quickchart {\n",
              "    background-color: #3B4455;\n",
              "    fill: #D2E3FC;\n",
              "  }\n",
              "\n",
              "  [theme=dark] .colab-df-quickchart:hover {\n",
              "    background-color: #434B5C;\n",
              "    box-shadow: 0px 1px 3px 1px rgba(0, 0, 0, 0.15);\n",
              "    filter: drop-shadow(0px 1px 2px rgba(0, 0, 0, 0.3));\n",
              "    fill: #FFFFFF;\n",
              "  }\n",
              "</style>\n",
              "\n",
              "    <script>\n",
              "      async function quickchart(key) {\n",
              "        const containerElement = document.querySelector('#' + key);\n",
              "        const charts = await google.colab.kernel.invokeFunction(\n",
              "            'suggestCharts', [key], {});\n",
              "      }\n",
              "    </script>\n",
              "\n",
              "      <script>\n",
              "\n",
              "function displayQuickchartButton(domScope) {\n",
              "  let quickchartButtonEl =\n",
              "    domScope.querySelector('#df-aee3ba01-6a26-47bc-8bb9-fcc6fc9d316a button.colab-df-quickchart');\n",
              "  quickchartButtonEl.style.display =\n",
              "    google.colab.kernel.accessAllowed ? 'block' : 'none';\n",
              "}\n",
              "\n",
              "        displayQuickchartButton(document);\n",
              "      </script>\n",
              "      <style>\n",
              "    .colab-df-container {\n",
              "      display:flex;\n",
              "      flex-wrap:wrap;\n",
              "      gap: 12px;\n",
              "    }\n",
              "\n",
              "    .colab-df-convert {\n",
              "      background-color: #E8F0FE;\n",
              "      border: none;\n",
              "      border-radius: 50%;\n",
              "      cursor: pointer;\n",
              "      display: none;\n",
              "      fill: #1967D2;\n",
              "      height: 32px;\n",
              "      padding: 0 0 0 0;\n",
              "      width: 32px;\n",
              "    }\n",
              "\n",
              "    .colab-df-convert:hover {\n",
              "      background-color: #E2EBFA;\n",
              "      box-shadow: 0px 1px 2px rgba(60, 64, 67, 0.3), 0px 1px 3px 1px rgba(60, 64, 67, 0.15);\n",
              "      fill: #174EA6;\n",
              "    }\n",
              "\n",
              "    [theme=dark] .colab-df-convert {\n",
              "      background-color: #3B4455;\n",
              "      fill: #D2E3FC;\n",
              "    }\n",
              "\n",
              "    [theme=dark] .colab-df-convert:hover {\n",
              "      background-color: #434B5C;\n",
              "      box-shadow: 0px 1px 3px 1px rgba(0, 0, 0, 0.15);\n",
              "      filter: drop-shadow(0px 1px 2px rgba(0, 0, 0, 0.3));\n",
              "      fill: #FFFFFF;\n",
              "    }\n",
              "  </style>\n",
              "\n",
              "      <script>\n",
              "        const buttonEl =\n",
              "          document.querySelector('#df-a1445149-5545-4099-9d8b-f1f76935c6b4 button.colab-df-convert');\n",
              "        buttonEl.style.display =\n",
              "          google.colab.kernel.accessAllowed ? 'block' : 'none';\n",
              "\n",
              "        async function convertToInteractive(key) {\n",
              "          const element = document.querySelector('#df-a1445149-5545-4099-9d8b-f1f76935c6b4');\n",
              "          const dataTable =\n",
              "            await google.colab.kernel.invokeFunction('convertToInteractive',\n",
              "                                                     [key], {});\n",
              "          if (!dataTable) return;\n",
              "\n",
              "          const docLinkHtml = 'Like what you see? Visit the ' +\n",
              "            '<a target=\"_blank\" href=https://colab.research.google.com/notebooks/data_table.ipynb>data table notebook</a>'\n",
              "            + ' to learn more about interactive tables.';\n",
              "          element.innerHTML = '';\n",
              "          dataTable['output_type'] = 'display_data';\n",
              "          await google.colab.output.renderOutput(dataTable, element);\n",
              "          const docLink = document.createElement('div');\n",
              "          docLink.innerHTML = docLinkHtml;\n",
              "          element.appendChild(docLink);\n",
              "        }\n",
              "      </script>\n",
              "    </div>\n",
              "  </div>\n"
            ]
          },
          "metadata": {},
          "execution_count": 2
        }
      ]
    },
    {
      "cell_type": "code",
      "source": [
        "df.shape"
      ],
      "metadata": {
        "id": "tM5svMXnLpRk",
        "outputId": "dcb702e2-082e-4c18-da1a-cd23f3e5849b",
        "colab": {
          "base_uri": "https://localhost:8080/"
        }
      },
      "execution_count": 5,
      "outputs": [
        {
          "output_type": "execute_result",
          "data": {
            "text/plain": [
              "(19793248, 41)"
            ]
          },
          "metadata": {},
          "execution_count": 5
        }
      ]
    },
    {
      "cell_type": "code",
      "source": [
        "import os\n",
        "import pandas as pd\n",
        "from sklearn.model_selection import train_test_split\n",
        "\n",
        "# Replace 'your_data.csv' with the filename of your dataset\n",
        "# Assuming you already have your data in a DataFrame named 'df'\n",
        "# If you have not loaded your data into 'df', replace this with the appropriate code\n",
        "\n",
        "# Extract features and labels\n",
        "X = df.drop(columns=['Attack_type']).values\n",
        "y = df['Attack_type'].values\n",
        "\n",
        "# Output directory path\n",
        "output_dir = '/content/drive/MyDrive/DataSplits/'\n",
        "\n",
        "# Create the output directory if it doesn't exist\n",
        "os.makedirs(output_dir, exist_ok=True)\n",
        "\n",
        "# Split the data into train and test sets\n",
        "X_train, X_test, y_train, y_test = train_test_split(X, y, test_size=0.2, random_state=42)"
      ],
      "metadata": {
        "id": "UQrfB8PDMId-"
      },
      "execution_count": 3,
      "outputs": []
    },
    {
      "cell_type": "code",
      "source": [
        "# Output directory path\n",
        "output_dir = '/content/drive/MyDrive/DataSplits/'"
      ],
      "metadata": {
        "id": "SNjvHcfMSO3g"
      },
      "execution_count": 4,
      "outputs": []
    },
    {
      "cell_type": "code",
      "source": [
        "# Function to save data to CSV file\n",
        "def save_to_csv(X, y, filename):\n",
        "    data = pd.DataFrame(data=np.column_stack((X, y)), columns=df.columns)\n",
        "    data.to_csv(filename, index=False)"
      ],
      "metadata": {
        "id": "aquQw9P_SV-Z"
      },
      "execution_count": 5,
      "outputs": []
    },
    {
      "cell_type": "code",
      "source": [
        "# Save train data to CSV incrementally\n",
        "train_file = os.path.join(output_dir, 'train_data.csv')\n",
        "\n",
        "# Chunk size for incremental saving\n",
        "chunk_size = 100000\n",
        "\n",
        "# Save data in chunks\n",
        "num_samples = X_train.shape[0]\n",
        "for i in range(0, num_samples, chunk_size):\n",
        "    start_idx = i\n",
        "    end_idx = min(i + chunk_size, num_samples)\n",
        "\n",
        "    train_chunk = pd.DataFrame(data=np.column_stack((X_train[start_idx:end_idx], y_train[start_idx:end_idx])), columns=df.columns)\n",
        "\n",
        "    if i == 0:\n",
        "        # For the first chunk, include the header (column names)\n",
        "        train_chunk.to_csv(train_file, index=False, mode='a', header=True)\n",
        "    else:\n",
        "        # For subsequent chunks, exclude the header to avoid writing duplicate column names\n",
        "        train_chunk.to_csv(train_file, index=False, mode='a', header=False)\n",
        "\n",
        "    print(f\"Chunk {i//chunk_size + 1} saved.\")\n",
        "\n",
        "print(\"Train data saved incrementally.\")"
      ],
      "metadata": {
        "id": "AnhW3nNjSfHf"
      },
      "execution_count": null,
      "outputs": []
    },
    {
      "cell_type": "code",
      "source": [
        "# Save test data to CSV incrementally\n",
        "test_file = os.path.join(output_dir, 'test_data.csv')\n",
        "\n",
        "# Chunk size for incremental saving\n",
        "chunk_size = 100000\n",
        "\n",
        "# Save data in chunks\n",
        "num_samples = X_test.shape[0]\n",
        "for i in range(0, num_samples, chunk_size):\n",
        "    start_idx = i\n",
        "    end_idx = min(i + chunk_size, num_samples)\n",
        "\n",
        "    test_chunk = pd.DataFrame(data=np.column_stack((X_test[start_idx:end_idx], y_test[start_idx:end_idx])), columns=df.columns)\n",
        "\n",
        "    if i == 0:\n",
        "        # For the first chunk, include the header (column names)\n",
        "        test_chunk.to_csv(test_file, index=False, mode='a', header=True)\n",
        "    else:\n",
        "        # For subsequent chunks, exclude the header to avoid writing duplicate column names\n",
        "        test_chunk.to_csv(test_file, index=False, mode='a', header=False)\n",
        "\n",
        "    print(f\"Chunk {i//chunk_size + 1} saved.\")\n",
        "\n",
        "print(\"Test data saved incrementally.\")"
      ],
      "metadata": {
        "id": "65iwBXTuPFI-"
      },
      "execution_count": null,
      "outputs": []
    },
    {
      "cell_type": "code",
      "source": [
        "# Just printing out the dimentions to verify the data\n",
        "print(X_train.shape, y_train.shape)\n",
        "print(X_test.shape, y_test.shape)"
      ],
      "metadata": {
        "id": "OPAgYCFgZffi",
        "outputId": "b7d5cf85-aa64-4c1f-f269-a455e1caf31d",
        "colab": {
          "base_uri": "https://localhost:8080/"
        }
      },
      "execution_count": 10,
      "outputs": [
        {
          "output_type": "stream",
          "name": "stdout",
          "text": [
            "(15834598, 40) (15834598,)\n",
            "(3958650, 40) (3958650,)\n"
          ]
        }
      ]
    },
    {
      "cell_type": "code",
      "source": [
        "import numpy as np\n",
        "import pandas as pd\n",
        "import matplotlib.pyplot as plt\n",
        "import warnings\n",
        "import os\n",
        "warnings.filterwarnings(\"ignore\")\n",
        "import keras\n",
        "from keras import backend as K\n",
        "from keras.models import Sequential\n",
        "from keras.layers import Input, Dense, Conv1D, Dropout, MaxPool1D, Flatten\n",
        "from sklearn.model_selection import train_test_split"
      ],
      "metadata": {
        "id": "-nC4T4tnIrRM"
      },
      "execution_count": 7,
      "outputs": []
    },
    {
      "cell_type": "code",
      "source": [
        "\n",
        "# cnn model\n",
        "from numpy import mean\n",
        "from numpy import std\n",
        "from numpy import dstack\n",
        "from pandas import read_csv\n",
        "from matplotlib import pyplot\n",
        "from keras.models import Sequential\n",
        "from keras.layers import Dense\n",
        "from keras.layers import Flatten\n",
        "from keras.layers import Dropout\n",
        "from keras.layers.convolutional import Conv1D\n",
        "from keras.layers.convolutional import MaxPooling1D\n",
        "from keras.utils import to_categorical"
      ],
      "metadata": {
        "id": "g00FY4tyb3lK"
      },
      "execution_count": 5,
      "outputs": []
    },
    {
      "cell_type": "code",
      "source": [
        "# Build the model\n",
        "\n",
        "# The model architecture type is sequential hence that is used\n",
        "model = Sequential()\n",
        "\n",
        "# We are using 4 convolution layers for feature extraction\n",
        "model.add(Conv1D(filters=512, kernel_size=32, padding='same', kernel_initializer='normal', activation='relu', input_shape=(19793248,41)))\n",
        "model.add(Conv1D(filters=512, kernel_size=32, padding='same', kernel_initializer='normal', activation='relu'))\n",
        "model.add(Dropout(0.2)) # This is the dropout layer. It's main function is to inactivate 20% of neurons in order to prevent overfitting\n",
        "model.add(Conv1D(filters=256, kernel_size=32, padding='same', kernel_initializer='normal', activation='relu'))\n",
        "model.add(Dropout(0.2))\n",
        "model.add(Conv1D(filters=256, kernel_size=32, padding='same', kernel_initializer='normal', activation='relu'))\n",
        "model.add(MaxPool1D(pool_size=128)) # We use MaxPooling with a filter size of 128. This also contributes to generalization\n",
        "model.add(Dropout(0.2))\n",
        "\n",
        "# The prevous step gices an output of multi dimentional data, which cannot be fead directly into the feed forward neural network. Hence, the model is flattened\n",
        "model.add(Flatten())\n",
        "# One hidden layer of 128 neurons have been used in order to have better classification results\n",
        "model.add(Dense(units=128, kernel_initializer='normal', activation='relu'))\n",
        "model.add(Dropout(0.5))\n",
        "# The final neuron HAS to be 1 in number and cannot be more than that. This is because this is a binary classification problem and only 1 neuron is enough to denote the class '1' or '0'\n",
        "model.add(Dense(units=15, activation='softmax'))\n",
        "\n",
        "# Print the summary of the model\n",
        "model.summary()"
      ],
      "metadata": {
        "id": "-dguHObld6-m"
      },
      "execution_count": null,
      "outputs": []
    },
    {
      "cell_type": "code",
      "source": [
        "df.shape"
      ],
      "metadata": {
        "id": "kLGT0-pIcAJc",
        "outputId": "8978c0b6-330b-45d7-c0ee-a8f2b238f44e",
        "colab": {
          "base_uri": "https://localhost:8080/"
        }
      },
      "execution_count": 21,
      "outputs": [
        {
          "output_type": "execute_result",
          "data": {
            "text/plain": [
              "(19793248, 41)"
            ]
          },
          "metadata": {},
          "execution_count": 21
        }
      ]
    },
    {
      "cell_type": "code",
      "source": [
        "model = Sequential()\n",
        "model.add(Conv1D(filters=64, kernel_size=41, activation='relu', input_shape=(19793248,41)))\n",
        "model.add(Conv1D(filters=64, kernel_size=41, activation='relu'))\n",
        "model.add(Dropout(0.5))\n",
        "model.add(MaxPooling1D(pool_size=2))\n",
        "model.add(Flatten())\n",
        "model.add(Dense(100, activation='relu'))\n",
        "model.add(Dense(15, activation='softmax'))\n",
        "model.compile(loss='categorical_crossentropy', optimizer='adam', metrics=['accuracy'])"
      ],
      "metadata": {
        "id": "mKb6ZlkZZmLO",
        "outputId": "95e8321d-5638-41c7-d173-705527a6be7b",
        "colab": {
          "base_uri": "https://localhost:8080/",
          "height": 240
        }
      },
      "execution_count": 4,
      "outputs": [
        {
          "output_type": "error",
          "ename": "NameError",
          "evalue": "ignored",
          "traceback": [
            "\u001b[0;31m---------------------------------------------------------------------------\u001b[0m",
            "\u001b[0;31mNameError\u001b[0m                                 Traceback (most recent call last)",
            "\u001b[0;32m<ipython-input-4-93b5b8fe0afe>\u001b[0m in \u001b[0;36m<cell line: 1>\u001b[0;34m()\u001b[0m\n\u001b[0;32m----> 1\u001b[0;31m \u001b[0mmodel\u001b[0m \u001b[0;34m=\u001b[0m \u001b[0mSequential\u001b[0m\u001b[0;34m(\u001b[0m\u001b[0;34m)\u001b[0m\u001b[0;34m\u001b[0m\u001b[0;34m\u001b[0m\u001b[0m\n\u001b[0m\u001b[1;32m      2\u001b[0m \u001b[0mmodel\u001b[0m\u001b[0;34m.\u001b[0m\u001b[0madd\u001b[0m\u001b[0;34m(\u001b[0m\u001b[0mConv1D\u001b[0m\u001b[0;34m(\u001b[0m\u001b[0mfilters\u001b[0m\u001b[0;34m=\u001b[0m\u001b[0;36m64\u001b[0m\u001b[0;34m,\u001b[0m \u001b[0mkernel_size\u001b[0m\u001b[0;34m=\u001b[0m\u001b[0;36m41\u001b[0m\u001b[0;34m,\u001b[0m \u001b[0mactivation\u001b[0m\u001b[0;34m=\u001b[0m\u001b[0;34m'relu'\u001b[0m\u001b[0;34m,\u001b[0m \u001b[0minput_shape\u001b[0m\u001b[0;34m=\u001b[0m\u001b[0;34m(\u001b[0m\u001b[0;36m19793248\u001b[0m\u001b[0;34m,\u001b[0m\u001b[0;36m41\u001b[0m\u001b[0;34m)\u001b[0m\u001b[0;34m)\u001b[0m\u001b[0;34m)\u001b[0m\u001b[0;34m\u001b[0m\u001b[0;34m\u001b[0m\u001b[0m\n\u001b[1;32m      3\u001b[0m \u001b[0mmodel\u001b[0m\u001b[0;34m.\u001b[0m\u001b[0madd\u001b[0m\u001b[0;34m(\u001b[0m\u001b[0mConv1D\u001b[0m\u001b[0;34m(\u001b[0m\u001b[0mfilters\u001b[0m\u001b[0;34m=\u001b[0m\u001b[0;36m64\u001b[0m\u001b[0;34m,\u001b[0m \u001b[0mkernel_size\u001b[0m\u001b[0;34m=\u001b[0m\u001b[0;36m41\u001b[0m\u001b[0;34m,\u001b[0m \u001b[0mactivation\u001b[0m\u001b[0;34m=\u001b[0m\u001b[0;34m'relu'\u001b[0m\u001b[0;34m)\u001b[0m\u001b[0;34m)\u001b[0m\u001b[0;34m\u001b[0m\u001b[0;34m\u001b[0m\u001b[0m\n\u001b[1;32m      4\u001b[0m \u001b[0mmodel\u001b[0m\u001b[0;34m.\u001b[0m\u001b[0madd\u001b[0m\u001b[0;34m(\u001b[0m\u001b[0mDropout\u001b[0m\u001b[0;34m(\u001b[0m\u001b[0;36m0.5\u001b[0m\u001b[0;34m)\u001b[0m\u001b[0;34m)\u001b[0m\u001b[0;34m\u001b[0m\u001b[0;34m\u001b[0m\u001b[0m\n\u001b[1;32m      5\u001b[0m \u001b[0mmodel\u001b[0m\u001b[0;34m.\u001b[0m\u001b[0madd\u001b[0m\u001b[0;34m(\u001b[0m\u001b[0mMaxPooling1D\u001b[0m\u001b[0;34m(\u001b[0m\u001b[0mpool_size\u001b[0m\u001b[0;34m=\u001b[0m\u001b[0;36m2\u001b[0m\u001b[0;34m)\u001b[0m\u001b[0;34m)\u001b[0m\u001b[0;34m\u001b[0m\u001b[0;34m\u001b[0m\u001b[0m\n",
            "\u001b[0;31mNameError\u001b[0m: name 'Sequential' is not defined"
          ]
        }
      ]
    },
    {
      "cell_type": "code",
      "source": [
        "# Just printing out the dimentions to verify the data\n",
        "print(X_train.shape, y_train.shape)\n",
        "print(X_test.shape, y_test.shape)"
      ],
      "metadata": {
        "id": "ae1CinMUIgar"
      },
      "execution_count": null,
      "outputs": []
    },
    {
      "cell_type": "markdown",
      "source": [
        "## **Generate images for each class**"
      ],
      "metadata": {
        "id": "VRknAZfvQ_eZ"
      }
    },
    {
      "cell_type": "code",
      "source": [
        "from google.colab import drive\n",
        "drive.mount('/content/drive')"
      ],
      "metadata": {
        "id": "0YXuJS5paUkB"
      },
      "execution_count": null,
      "outputs": []
    },
    {
      "cell_type": "code",
      "source": [
        "pip install torch==1.9.1"
      ],
      "metadata": {
        "id": "jQ0pV99BHMtg",
        "outputId": "a5b4eb87-9d90-433a-986f-382a252ba0ab",
        "colab": {
          "base_uri": "https://localhost:8080/"
        }
      },
      "execution_count": null,
      "outputs": [
        {
          "output_type": "stream",
          "name": "stdout",
          "text": [
            "\u001b[31mERROR: Could not find a version that satisfies the requirement torch==1.9.1 (from versions: 1.11.0, 1.12.0, 1.12.1, 1.13.0, 1.13.1, 2.0.0, 2.0.1)\u001b[0m\u001b[31m\n",
            "\u001b[0m\u001b[31mERROR: No matching distribution found for torch==1.9.1\u001b[0m\u001b[31m\n",
            "\u001b[0m"
          ]
        }
      ]
    },
    {
      "cell_type": "code",
      "source": [
        "pip -q install git+https://github.com/alok-ai-lab/pyDeepInsight.git#egg=pyDeepInsight"
      ],
      "metadata": {
        "id": "yoOIi_9PDYYK",
        "outputId": "71b38aec-7b7b-4324-b7cb-2c4662187c38",
        "colab": {
          "base_uri": "https://localhost:8080/"
        }
      },
      "execution_count": null,
      "outputs": [
        {
          "output_type": "stream",
          "name": "stdout",
          "text": [
            "  Preparing metadata (setup.py) ... \u001b[?25l\u001b[?25hdone\n"
          ]
        }
      ]
    },
    {
      "cell_type": "code",
      "source": [
        "! pip install tensorflow\n",
        "! pip install keras\n",
        "! pip install numpy\n"
      ],
      "metadata": {
        "id": "Wg3BoZuA_9-L"
      },
      "execution_count": null,
      "outputs": []
    },
    {
      "cell_type": "code",
      "source": [],
      "metadata": {
        "id": "4Y6pcf_RD-Dy"
      },
      "execution_count": null,
      "outputs": []
    },
    {
      "cell_type": "code",
      "source": [
        "import numpy as np\n",
        "import pandas as pd\n",
        "import matplotlib.pyplot as plt\n",
        "import warnings\n",
        "import os\n",
        "warnings.filterwarnings(\"ignore\")\n",
        "import keras\n",
        "from keras import backend as K\n",
        "from keras.models import Sequential\n",
        "from keras.layers import Input, Dense, Conv1D, Dropout, MaxPool1D, Flatten\n",
        "from sklearn.model_selection import train_test_split"
      ],
      "metadata": {
        "id": "LTH468vnAepK"
      },
      "execution_count": 16,
      "outputs": []
    },
    {
      "cell_type": "code",
      "source": [
        "# This is not a mandatory step\n",
        "# This is used to set the figure size so that the plots appear to be of that size\n",
        "# If this parameter is not set, then the default plot size is used\n",
        "plt.rcParams['figure.figsize'] = 30, 15"
      ],
      "metadata": {
        "id": "cA2KL66g_wrV"
      },
      "execution_count": 17,
      "outputs": []
    },
    {
      "cell_type": "code",
      "source": [
        "# This step is actually supposed to be used to randomly split dataset into training and testing set as well as to shuffle them\n",
        "# However, here I am using it just to shuffle the dataset and therefore the test_size is equated to 0\n",
        "X_train, _, y_train, _ = train_test_split(X_train, y_train, test_size=0, random_state=0)"
      ],
      "metadata": {
        "id": "htF5gRdREK8L"
      },
      "execution_count": null,
      "outputs": []
    }
  ]
}